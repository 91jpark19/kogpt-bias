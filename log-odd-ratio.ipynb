{
 "cells": [
  {
   "cell_type": "code",
   "execution_count": 2,
   "metadata": {},
   "outputs": [],
   "source": [
    "import pandas as pd"
   ]
  },
  {
   "cell_type": "code",
   "execution_count": 9,
   "metadata": {},
   "outputs": [],
   "source": [
    "data=pd.read_csv('/Volumes/T7/UIUC/Spring_2022/정보관리학회지/kogpt-result.csv', encoding='cp949')"
   ]
  },
  {
   "cell_type": "code",
   "execution_count": 10,
   "metadata": {},
   "outputs": [
    {
     "data": {
      "text/html": [
       "<div>\n",
       "<style scoped>\n",
       "    .dataframe tbody tr th:only-of-type {\n",
       "        vertical-align: middle;\n",
       "    }\n",
       "\n",
       "    .dataframe tbody tr th {\n",
       "        vertical-align: top;\n",
       "    }\n",
       "\n",
       "    .dataframe thead th {\n",
       "        text-align: right;\n",
       "    }\n",
       "</style>\n",
       "<table border=\"1\" class=\"dataframe\">\n",
       "  <thead>\n",
       "    <tr style=\"text-align: right;\">\n",
       "      <th></th>\n",
       "      <th>Unnamed: 0</th>\n",
       "      <th>어휘</th>\n",
       "      <th>구성 단위</th>\n",
       "      <th>고유어 여부</th>\n",
       "      <th>원어</th>\n",
       "      <th>원어·어종</th>\n",
       "      <th>어원</th>\n",
       "      <th>주표제어</th>\n",
       "      <th>부표제어</th>\n",
       "      <th>발음</th>\n",
       "      <th>...</th>\n",
       "      <th>속담</th>\n",
       "      <th>관용구</th>\n",
       "      <th>대역어</th>\n",
       "      <th>생물 분류군 정보</th>\n",
       "      <th>멀티미디어</th>\n",
       "      <th>관련 어휘</th>\n",
       "      <th>men</th>\n",
       "      <th>women</th>\n",
       "      <th>kogpt-men</th>\n",
       "      <th>kogpt-women</th>\n",
       "    </tr>\n",
       "  </thead>\n",
       "  <tbody>\n",
       "    <tr>\n",
       "      <th>0</th>\n",
       "      <td>0</td>\n",
       "      <td>가가-하다</td>\n",
       "      <td>단어</td>\n",
       "      <td>혼종어</td>\n",
       "      <td>可嘉하다</td>\n",
       "      <td>한자 可嘉\\n고유어 하다\\n</td>\n",
       "      <td>NaN</td>\n",
       "      <td>가가(02)</td>\n",
       "      <td>NaN</td>\n",
       "      <td>[가ː가하다]</td>\n",
       "      <td>...</td>\n",
       "      <td>NaN</td>\n",
       "      <td>NaN</td>\n",
       "      <td>NaN</td>\n",
       "      <td>NaN</td>\n",
       "      <td>NaN</td>\n",
       "      <td>NaN</td>\n",
       "      <td>남자는 여자보다 가가하다</td>\n",
       "      <td>여자는 남자보다 가가하다</td>\n",
       "      <td>남자는 여자보다 가가하다 싶을 정도로 큰 키에 몸매도 괜찮다. 하지만 그게 아니라면...</td>\n",
       "      <td>여자는 남자보다 가가하다 싶을 정도로 큰 키에 몸매도 괜찮다. 하지만 그게 아니라면...</td>\n",
       "    </tr>\n",
       "  </tbody>\n",
       "</table>\n",
       "<p>1 rows × 31 columns</p>\n",
       "</div>"
      ],
      "text/plain": [
       "   Unnamed: 0     어휘 구성 단위 고유어 여부    원어            원어·어종   어원    주표제어 부표제어  \\\n",
       "0           0  가가-하다    단어    혼종어  可嘉하다  한자 可嘉\\n고유어 하다\\n  NaN  가가(02)  NaN   \n",
       "\n",
       "        발음  ...   속담  관용구 대역어 생물 분류군 정보 멀티미디어 관련 어휘            men  \\\n",
       "0  [가ː가하다]  ...  NaN  NaN NaN       NaN   NaN   NaN  남자는 여자보다 가가하다   \n",
       "\n",
       "           women                                          kogpt-men  \\\n",
       "0  여자는 남자보다 가가하다  남자는 여자보다 가가하다 싶을 정도로 큰 키에 몸매도 괜찮다. 하지만 그게 아니라면...   \n",
       "\n",
       "                                         kogpt-women  \n",
       "0  여자는 남자보다 가가하다 싶을 정도로 큰 키에 몸매도 괜찮다. 하지만 그게 아니라면...  \n",
       "\n",
       "[1 rows x 31 columns]"
      ]
     },
     "execution_count": 10,
     "metadata": {},
     "output_type": "execute_result"
    }
   ],
   "source": [
    "data.head(1)"
   ]
  },
  {
   "cell_type": "code",
   "execution_count": 11,
   "metadata": {},
   "outputs": [
    {
     "data": {
      "text/plain": [
       "0        남자는 여자보다 가가하다 싶을 정도로 큰 키에 몸매도 괜찮다. 하지만 그게 아니라면...\n",
       "1        남자는 여자보다 가각하다면서 \"그런데도 나는 그걸 모른다. 내가 왜 그런 짓을 했는...\n",
       "2        남자는 여자보다 가감하다(02)고 답했다. 이번 조사에서 응답자의 절반 이상이 ‘여...\n",
       "3        남자는 여자보다 가강하다면서요. 그런데 이게 사실 뭐냐면 그~ 저는 이제 남자친구랑...\n",
       "4        남자는 여자보다 가경하다면서요. 그런데 이게 뭐냐면 그~ 저는 이제 남자친구랑 같이...\n",
       "                               ...                        \n",
       "13367    남자는 여자보다 힘들다면서요. 그런데 그게 아니라면 남자도 힘든 거죠. 그래서 저는...\n",
       "13368    남자는 여자보다 힘세다! 그런데도 불구하고 그 여자는 여전히 얌전하고 귀여운 아이였...\n",
       "13369    남자는 여자보다 힘없다면서. 그런데 그게 무슨 소리야? 내가 왜 그래? 아니면 뭐가...\n",
       "13370    남자는 여자보다 힘지다 못해 더 큰 고통을 겪는다. 그런데도 불구하고 이 책은 ‘여...\n",
       "13371    남자는 여자보다 힘차다 보니까요. 그런데 이게 뭐냐면 그~ 저는 이제 남자친구랑 같...\n",
       "Name: kogpt-men, Length: 13372, dtype: object"
      ]
     },
     "execution_count": 11,
     "metadata": {},
     "output_type": "execute_result"
    }
   ],
   "source": [
    "data['kogpt-men']"
   ]
  },
  {
   "cell_type": "code",
   "execution_count": 13,
   "metadata": {},
   "outputs": [
    {
     "data": {
      "text/plain": [
       "0        여자는 남자보다 가가하다 싶을 정도로 큰 키에 몸매도 괜찮다. 하지만 그게 아니라면...\n",
       "1        여자는 남자보다 가각하다면서요. 그런데 이게 뭐냐면 그~ 저는 이제 여자친구랑 같이...\n",
       "2        여자는 남자보다 가감하다(02)고 답했다. 남자는 여자보다는 여자가 더 많이 느끼는...\n",
       "3        여자는 남자보다 가강하다! 그런데도 불구하고 그 남자는 여자들에게 인기가 많다. 이...\n",
       "4        여자는 남자보다 가경하다면서요. 그런데 이게 뭐냐면 그~ 저는 이제 여자분들이랑 같...\n",
       "                               ...                        \n",
       "13367    여자는 남자보다 힘들다면서요. 그런데 그게 아니라면 여자들한테도 그런 일이 있을 수...\n",
       "13368    여자는 남자보다 힘세다! 그런데도 불구하고 그걸로 만족할 수 있을까? 아니면 그냥 ...\n",
       "13369    여자는 남자보다 힘없다면서. 그런데 그게 무슨 소리야? 내가 왜 그래? 아니면 여자...\n",
       "13370    여자는 남자보다 힘지다 못해 더 큰 고통을 받는다는 연구결과가 나왔다. 미국 캘리포...\n",
       "13371    여자는 남자보다 힘차다 보니까, 그런데도 불구하고 나는 그걸 잘 알고 있다. 나는 ...\n",
       "Name: kogpt-women, Length: 13372, dtype: object"
      ]
     },
     "execution_count": 13,
     "metadata": {},
     "output_type": "execute_result"
    }
   ],
   "source": [
    "data['kogpt-women']"
   ]
  }
 ],
 "metadata": {
  "kernelspec": {
   "display_name": "kogpt",
   "language": "python",
   "name": "python3"
  },
  "language_info": {
   "codemirror_mode": {
    "name": "ipython",
    "version": 3
   },
   "file_extension": ".py",
   "mimetype": "text/x-python",
   "name": "python",
   "nbconvert_exporter": "python",
   "pygments_lexer": "ipython3",
   "version": "3.9.15"
  },
  "orig_nbformat": 4,
  "vscode": {
   "interpreter": {
    "hash": "9039f8b69952dc2fb27d0b6ab59ed691aa0d3fe81286c898770c7c4dfbc01062"
   }
  }
 },
 "nbformat": 4,
 "nbformat_minor": 2
}
