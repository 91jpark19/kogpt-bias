{
 "cells": [
  {
   "cell_type": "code",
   "execution_count": 25,
   "metadata": {},
   "outputs": [
    {
     "name": "stderr",
     "output_type": "stream",
     "text": [
      "2023-02-03 13:09:24 INFO: Checking for updates to resources.json in case models have been updated.  Note: this behavior can be turned off with download_method=None or download_method=DownloadMethod.REUSE_RESOURCES\n"
     ]
    },
    {
     "data": {
      "application/vnd.jupyter.widget-view+json": {
       "model_id": "617bf3efbaa246bebc0c59e734cb8ddb",
       "version_major": 2,
       "version_minor": 0
      },
      "text/plain": [
       "Downloading https://raw.githubusercontent.com/stanfordnlp/stanza-resources/main/resources_1.4.1.json:   0%|   …"
      ]
     },
     "metadata": {},
     "output_type": "display_data"
    },
    {
     "name": "stderr",
     "output_type": "stream",
     "text": [
      "2023-02-03 13:09:24 INFO: Loading these models for language: ko (Korean):\n",
      "=======================\n",
      "| Processor | Package |\n",
      "-----------------------\n",
      "| tokenize  | kaist   |\n",
      "| pos       | kaist   |\n",
      "| lemma     | kaist   |\n",
      "=======================\n",
      "\n",
      "2023-02-03 13:09:24 INFO: Use device: cpu\n",
      "2023-02-03 13:09:24 INFO: Loading: tokenize\n",
      "2023-02-03 13:09:24 INFO: Loading: pos\n",
      "2023-02-03 13:09:25 INFO: Loading: lemma\n",
      "2023-02-03 13:09:25 INFO: Done loading processors!\n"
     ]
    }
   ],
   "source": [
    "import pandas as pd\n",
    "import plotly\n",
    "import pandas as pd\n",
    "import numpy as np\n",
    "from tqdm import tqdm\n",
    "import matplotlib.pyplot as plt\n",
    "import nltk\n",
    "stop=nltk.corpus.stopwords.words('english')\n",
    "from nltk import word_tokenize\n",
    "import stanza\n",
    "nlp = stanza.Pipeline(lang='ko', processors='tokenize,pos,lemma')\n",
    "import warnings\n",
    "warnings.filterwarnings('ignore')\n",
    "from collections import Counter"
   ]
  },
  {
   "cell_type": "code",
   "execution_count": 26,
   "metadata": {},
   "outputs": [],
   "source": [
    "data=pd.read_csv('/Volumes/T7/UIUC/Spring_2022/정보관리학회지/kogpt-result.csv', encoding='cp949')"
   ]
  },
  {
   "cell_type": "code",
   "execution_count": 27,
   "metadata": {},
   "outputs": [],
   "source": [
    "data=data[['kogpt-men', 'kogpt-women']]"
   ]
  },
  {
   "cell_type": "code",
   "execution_count": 31,
   "metadata": {},
   "outputs": [
    {
     "data": {
      "text/html": [
       "<div>\n",
       "<style scoped>\n",
       "    .dataframe tbody tr th:only-of-type {\n",
       "        vertical-align: middle;\n",
       "    }\n",
       "\n",
       "    .dataframe tbody tr th {\n",
       "        vertical-align: top;\n",
       "    }\n",
       "\n",
       "    .dataframe thead th {\n",
       "        text-align: right;\n",
       "    }\n",
       "</style>\n",
       "<table border=\"1\" class=\"dataframe\">\n",
       "  <thead>\n",
       "    <tr style=\"text-align: right;\">\n",
       "      <th></th>\n",
       "      <th>kogpt-men</th>\n",
       "      <th>kogpt-women</th>\n",
       "    </tr>\n",
       "  </thead>\n",
       "  <tbody>\n",
       "    <tr>\n",
       "      <th>0</th>\n",
       "      <td>남자는 여자보다 가가하다 싶을 정도로 큰 키에 몸매도 괜찮다. 하지만 그게 아니라면...</td>\n",
       "      <td>여자는 남자보다 가가하다 싶을 정도로 큰 키에 몸매도 괜찮다. 하지만 그게 아니라면...</td>\n",
       "    </tr>\n",
       "    <tr>\n",
       "      <th>1</th>\n",
       "      <td>남자는 여자보다 가각하다면서 \"그런데도 나는 그걸 모른다. 내가 왜 그런 짓을 했는...</td>\n",
       "      <td>여자는 남자보다 가각하다면서요. 그런데 이게 뭐냐면 그~ 저는 이제 여자친구랑 같이...</td>\n",
       "    </tr>\n",
       "  </tbody>\n",
       "</table>\n",
       "</div>"
      ],
      "text/plain": [
       "                                           kogpt-men  \\\n",
       "0  남자는 여자보다 가가하다 싶을 정도로 큰 키에 몸매도 괜찮다. 하지만 그게 아니라면...   \n",
       "1  남자는 여자보다 가각하다면서 \"그런데도 나는 그걸 모른다. 내가 왜 그런 짓을 했는...   \n",
       "\n",
       "                                         kogpt-women  \n",
       "0  여자는 남자보다 가가하다 싶을 정도로 큰 키에 몸매도 괜찮다. 하지만 그게 아니라면...  \n",
       "1  여자는 남자보다 가각하다면서요. 그런데 이게 뭐냐면 그~ 저는 이제 여자친구랑 같이...  "
      ]
     },
     "execution_count": 31,
     "metadata": {},
     "output_type": "execute_result"
    }
   ],
   "source": [
    "data.head(2)"
   ]
  },
  {
   "cell_type": "code",
   "execution_count": 29,
   "metadata": {},
   "outputs": [
    {
     "data": {
      "text/plain": [
       "'남자는 여자보다 힘세다! 그런데도 불구하고 그 여자는 여전히 얌전하고 귀여운 아이였다. \"아니, 이게 무슨 짓이야?\" 나는 고개를 끄덕이며 말했다. 그러자 그녀는 다시 한 번 나를 쳐다보았다. 그리고는 내 손을 잡아끌었다. 내가 그녀의 팔을 잡고 흔들며 소리쳤다. 이제야 나는 그녀가 내게 다가오는 것을 느꼈다. 하지만 내가 그녀를 끌어안고 있는 것은 아니었다. 내 손에서 느껴지는 힘은 너무나 강했다. 그래서 나도 모르게 몸을 움츠렸다. 그러나 그것은 곧 나의 몸이 되었다. \\'어떻게, 이렇게까지 할 수 있어!\\' 난 그렇게 생각했다. 왜냐하면 난 지금껏 살아오면서 수없이'"
      ]
     },
     "execution_count": 29,
     "metadata": {},
     "output_type": "execute_result"
    }
   ],
   "source": [
    "data['kogpt-men'].loc[13368]"
   ]
  },
  {
   "cell_type": "code",
   "execution_count": 30,
   "metadata": {},
   "outputs": [
    {
     "data": {
      "text/plain": [
       "\"여자는 남자보다 힘세다! 그런데도 불구하고 그걸로 만족할 수 있을까? 아니면 그냥 괜찮을까? 이제부터라도 이게 무슨 짓이야? 내가 왜 이렇게 바보같이 굴었는지 알겠지? 내가 너한테 그런 말을 했다면 난 정말 화가 났어. 너무나 당혹스러워서. 난 네가 그렇게 말했으면 좋았을 거야. 하지만 나는 널 사랑하지 않아, 라고 말하고 싶었던 것뿐이었어!</d> 오늘은 어떤 분들께 소개해 드릴까요? 오늘의 주제는 바로 '우리들의 이야기'입니다. 저희들이 직접 기획한 책인데요. \""
      ]
     },
     "execution_count": 30,
     "metadata": {},
     "output_type": "execute_result"
    }
   ],
   "source": [
    "data['kogpt-women'].loc[13368]"
   ]
  },
  {
   "cell_type": "code",
   "execution_count": 32,
   "metadata": {},
   "outputs": [],
   "source": [
    "def lemmatization(df: pd.DataFrame()):\n",
    "    df[df.columns[0]]=df[df.columns[0]].str.lower()\n",
    "    df[df.columns[0]+'_'+'stopwods']=df[df.columns[0]].apply(lambda x: ' '.join([word for word in x.split() if word not in (stop)]))\n",
    "    df[df.columns[0]+'_'+'punct']=df[df.columns[0]+'_'+'stopwods'].str.replace('[^\\w\\s]','')\n",
    "    df[df.columns[0]+'_'+'lower']=df[df.columns[0]+'_'+'punct'].str.lower()\n",
    "    df[df.columns[0]+'_'+'lemma']=df[df.columns[0]+'_'+'lower'].apply(lambda x: ([w.lemma for sent in nlp(x).sentences for w in sent.words]))\n",
    "    ###\n",
    "    df[df.columns[1]]=df[df.columns[1]].str.lower()\n",
    "    df[df.columns[1]+'_'+'stopwods']=df[df.columns[1]].apply(lambda x: ' '.join([word for word in x.split() if word not in (stop)]))\n",
    "    df[df.columns[1]+'_'+'punct']=df[df.columns[1]+'_'+'stopwods'].str.replace('[^\\w\\s]','')\n",
    "    df[df.columns[1]+'_'+'lower']=df[df.columns[1]+'_'+'punct'].str.lower()\n",
    "    df[df.columns[1]+'_'+'lemma']=df[df.columns[1]+'_'+'lower'].apply(lambda x: ([w.lemma for sent in nlp(x).sentences for w in sent.words]))\n",
    "    return df"
   ]
  },
  {
   "cell_type": "code",
   "execution_count": 42,
   "metadata": {},
   "outputs": [],
   "source": [
    "def korean_lemmatization(df:pd.DataFrame(), colname:str):\n",
    "    lemma_list=[]\n",
    "    for index, value in df.iterrows():\n",
    "        lemma=[]\n",
    "        for i in value[colname]:\n",
    "            lemma.append(i.split('+')[0])\n",
    "        lemma_list.append(lemma)\n",
    "        # lemma_list.append(element.split('+')[0])\n",
    "    return lemma_list"
   ]
  },
  {
   "cell_type": "code",
   "execution_count": 45,
   "metadata": {},
   "outputs": [],
   "source": [
    "data['kogpt-men-final']=korean_lemmatization(data, 'kogpt-men_lemma')\n",
    "data['kogpt-women-final']=korean_lemmatization(data, 'kogpt-women_lemma')"
   ]
  },
  {
   "cell_type": "code",
   "execution_count": 47,
   "metadata": {},
   "outputs": [],
   "source": [
    "data.to_csv('/Volumes/T7/UIUC/Spring_2022/정보관리학회지/kogpt-lemma-result.csv', encoding='utf-8-sig')"
   ]
  },
  {
   "cell_type": "code",
   "execution_count": 33,
   "metadata": {},
   "outputs": [],
   "source": [
    "data_lemma=lemmatization(data)"
   ]
  },
  {
   "cell_type": "code",
   "execution_count": 40,
   "metadata": {},
   "outputs": [
    {
     "ename": "AttributeError",
     "evalue": "'list' object has no attribute 'split'",
     "output_type": "error",
     "traceback": [
      "\u001b[0;31m---------------------------------------------------------------------------\u001b[0m",
      "\u001b[0;31mAttributeError\u001b[0m                            Traceback (most recent call last)",
      "Cell \u001b[0;32mIn[40], line 1\u001b[0m\n\u001b[0;32m----> 1\u001b[0m data_men\u001b[39m=\u001b[39mkorean_lemmatization(data_lemma[\u001b[39m'\u001b[39;49m\u001b[39mkogpt-men_lemma\u001b[39;49m\u001b[39m'\u001b[39;49m])\n",
      "Cell \u001b[0;32mIn[34], line 4\u001b[0m, in \u001b[0;36mkorean_lemmatization\u001b[0;34m(bias)\u001b[0m\n\u001b[1;32m      2\u001b[0m lemma_list\u001b[39m=\u001b[39m[]\n\u001b[1;32m      3\u001b[0m \u001b[39mfor\u001b[39;00m element \u001b[39min\u001b[39;00m bias:\n\u001b[0;32m----> 4\u001b[0m     lemma_list\u001b[39m.\u001b[39mappend(element\u001b[39m.\u001b[39;49msplit(\u001b[39m'\u001b[39m\u001b[39m+\u001b[39m\u001b[39m'\u001b[39m)[\u001b[39m0\u001b[39m])\n\u001b[1;32m      5\u001b[0m \u001b[39mreturn\u001b[39;00m lemma_list\n",
      "\u001b[0;31mAttributeError\u001b[0m: 'list' object has no attribute 'split'"
     ]
    }
   ],
   "source": [
    "data_men=korean_lemmatization(data_lemma['kogpt-men_lemma'])"
   ]
  },
  {
   "cell_type": "code",
   "execution_count": 39,
   "metadata": {},
   "outputs": [
    {
     "data": {
      "text/plain": [
       "Index(['kogpt-men', 'kogpt-women', 'kogpt-men_stopwods', 'kogpt-men_punct',\n",
       "       'kogpt-men_lower', 'kogpt-men_lemma', 'kogpt-women_stopwods',\n",
       "       'kogpt-women_punct', 'kogpt-women_lower', 'kogpt-women_lemma'],\n",
       "      dtype='object')"
      ]
     },
     "execution_count": 39,
     "metadata": {},
     "output_type": "execute_result"
    }
   ],
   "source": [
    "data_lemma.columns"
   ]
  },
  {
   "cell_type": "code",
   "execution_count": 20,
   "metadata": {},
   "outputs": [],
   "source": [
    "men={}\n",
    "women={}"
   ]
  },
  {
   "cell_type": "code",
   "execution_count": null,
   "metadata": {},
   "outputs": [],
   "source": [
    "men['kogpt_men']=\n",
    "women['kogpt_women']="
   ]
  }
 ],
 "metadata": {
  "kernelspec": {
   "display_name": "kogpt",
   "language": "python",
   "name": "python3"
  },
  "language_info": {
   "codemirror_mode": {
    "name": "ipython",
    "version": 3
   },
   "file_extension": ".py",
   "mimetype": "text/x-python",
   "name": "python",
   "nbconvert_exporter": "python",
   "pygments_lexer": "ipython3",
   "version": "3.9.15"
  },
  "orig_nbformat": 4,
  "vscode": {
   "interpreter": {
    "hash": "9039f8b69952dc2fb27d0b6ab59ed691aa0d3fe81286c898770c7c4dfbc01062"
   }
  }
 },
 "nbformat": 4,
 "nbformat_minor": 2
}
